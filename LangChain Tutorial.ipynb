{
 "cells": [
  {
   "cell_type": "code",
   "execution_count": 1,
   "id": "9e3ba825",
   "metadata": {},
   "outputs": [],
   "source": [
    "from secret_key import openai_api_key\n",
    "import os\n",
    "os.environ[\"OPENAI_API_KEY\"]=openai_api_key"
   ]
  },
  {
   "cell_type": "code",
   "execution_count": 6,
   "id": "760cf496",
   "metadata": {},
   "outputs": [],
   "source": [
    "from langchain.llms import OpenAI"
   ]
  },
  {
   "cell_type": "code",
   "execution_count": 7,
   "id": "a9ce3c93",
   "metadata": {},
   "outputs": [],
   "source": [
    "llm=OpenAI(temperature=0.5)"
   ]
  },
  {
   "cell_type": "code",
   "execution_count": 8,
   "id": "b803a426",
   "metadata": {},
   "outputs": [
    {
     "data": {
      "text/plain": [
       "'\\n\\nJohn McCarthy is widely credited as the \"father of Artificial Intelligence\" for his work in the 1950s and 1960s.'"
      ]
     },
     "execution_count": 8,
     "metadata": {},
     "output_type": "execute_result"
    }
   ],
   "source": [
    "llm(\"Who is the father of AI?\")"
   ]
  },
  {
   "cell_type": "markdown",
   "id": "bbe648c5",
   "metadata": {},
   "source": [
    "### Prompt Template"
   ]
  },
  {
   "cell_type": "code",
   "execution_count": 9,
   "id": "820eb888",
   "metadata": {},
   "outputs": [],
   "source": [
    "from langchain.prompts import PromptTemplate"
   ]
  },
  {
   "cell_type": "code",
   "execution_count": 11,
   "id": "fe24373c",
   "metadata": {},
   "outputs": [],
   "source": [
    "from langchain.chains import LLMChain"
   ]
  },
  {
   "cell_type": "code",
   "execution_count": 10,
   "id": "0b52f5c3",
   "metadata": {},
   "outputs": [],
   "source": [
    "prompt_template_name=PromptTemplate(\n",
    "    input_variables=['cusine', 'type'],\n",
    "    template=\"I am going to open a {type} restaurant that serves {cusine} cusine. Suggest a trendy name for it.\"\n",
    ")"
   ]
  },
  {
   "cell_type": "code",
   "execution_count": 14,
   "id": "038a107b",
   "metadata": {},
   "outputs": [],
   "source": [
    "name_chain=LLMChain(llm=llm,prompt=prompt_template_name,output_key=\"restaurant_name\")"
   ]
  },
  {
   "cell_type": "code",
   "execution_count": 10,
   "id": "c8d55b3c",
   "metadata": {},
   "outputs": [],
   "source": [
    "prompt_template_menu=PromptTemplate(\n",
    "    input_variables=['restaurant_name'],\n",
    "    template=\"I am going to open a {type} restaurant that serves {cusine} cusine. Suggest a trendy name for it.\"\n",
    ")"
   ]
  },
  {
   "cell_type": "code",
   "execution_count": null,
   "id": "73d780fb",
   "metadata": {},
   "outputs": [],
   "source": []
  }
 ],
 "metadata": {
  "kernelspec": {
   "display_name": "Python 3 (ipykernel)",
   "language": "python",
   "name": "python3"
  },
  "language_info": {
   "codemirror_mode": {
    "name": "ipython",
    "version": 3
   },
   "file_extension": ".py",
   "mimetype": "text/x-python",
   "name": "python",
   "nbconvert_exporter": "python",
   "pygments_lexer": "ipython3",
   "version": "3.9.13"
  }
 },
 "nbformat": 4,
 "nbformat_minor": 5
}
