{
 "cells": [
  {
   "cell_type": "code",
   "execution_count": 1,
   "id": "9e3ba825",
   "metadata": {},
   "outputs": [],
   "source": [
    "from secret_key import openai_api_key\n",
    "import os\n",
    "os.environ[\"OPENAI_API_KEY\"]=openai_api_key"
   ]
  },
  {
   "cell_type": "code",
   "execution_count": 6,
   "id": "760cf496",
   "metadata": {},
   "outputs": [],
   "source": [
    "from langchain.llms import OpenAI"
   ]
  },
  {
   "cell_type": "code",
   "execution_count": 7,
   "id": "a9ce3c93",
   "metadata": {},
   "outputs": [],
   "source": [
    "llm=OpenAI(temperature=0.5)"
   ]
  },
  {
   "cell_type": "code",
   "execution_count": 8,
   "id": "b803a426",
   "metadata": {},
   "outputs": [
    {
     "data": {
      "text/plain": [
       "'\\n\\nJohn McCarthy is widely credited as the \"father of Artificial Intelligence\" for his work in the 1950s and 1960s.'"
      ]
     },
     "execution_count": 8,
     "metadata": {},
     "output_type": "execute_result"
    }
   ],
   "source": [
    "llm(\"Who is the father of AI?\")"
   ]
  },
  {
   "cell_type": "markdown",
   "id": "f3a6580c",
   "metadata": {},
   "source": [
    "### Prompt Template"
   ]
  },
  {
   "cell_type": "code",
   "execution_count": 9,
   "id": "fa9a9be5",
   "metadata": {},
   "outputs": [],
   "source": [
    "from langchain.prompts import PromptTemplate"
   ]
  },
  {
   "cell_type": "code",
   "execution_count": 11,
   "id": "80316202",
   "metadata": {},
   "outputs": [],
   "source": [
    "from langchain.chains import LLMChain"
   ]
  },
  {
   "cell_type": "code",
   "execution_count": 40,
   "id": "4b9ecf30",
   "metadata": {},
   "outputs": [],
   "source": [
    "name_template=PromptTemplate(\n",
    "    input_variables=['cuisine', 'type', 'place'],\n",
    "    template='''\n",
    "    I am planning to open a restaurant. I'll provide you with the details below, Suggest a fancy and catchy name for it. (Give the name with a relevant emoji)\n",
    "\n",
    "    Type: {type}\n",
    "    Cuisine: {cuisine}\n",
    "    Location: {place}\n",
    "    '''\n",
    ")"
   ]
  },
  {
   "cell_type": "code",
   "execution_count": 41,
   "id": "61dbf58d",
   "metadata": {},
   "outputs": [],
   "source": [
    "name_chain=LLMChain(llm=llm,prompt=name_template,output_key=\"restaurant_name\")"
   ]
  },
  {
   "cell_type": "code",
   "execution_count": 45,
   "id": "97199f89",
   "metadata": {},
   "outputs": [],
   "source": [
    "menu_template=PromptTemplate(\n",
    "    input_variables=['restaurant_name','von','menu'],\n",
    "    template=\"Give me a comma separated values of menu items for the {von} restaurant named {restaurant_name} which serves {menu}\"\n",
    ")"
   ]
  },
  {
   "cell_type": "code",
   "execution_count": 46,
   "id": "937f2ccb",
   "metadata": {},
   "outputs": [],
   "source": [
    "menu_chain=LLMChain(llm=llm,prompt=menu_template,output_key=\"menu_items\")"
   ]
  },
  {
   "cell_type": "code",
   "execution_count": 48,
   "id": "23e1b3dc",
   "metadata": {},
   "outputs": [],
   "source": [
    "price_template=PromptTemplate(\n",
    "    input_variables=['menu_items','location'],\n",
    "    template='''\n",
    "    Give me a comma separated price list for the below mentioned menu items.\n",
    "    \n",
    "    {menu_items}\n",
    "    \n",
    "    The restaurant is located in {location}. Assign the price accordingly. Format the output as a comma separated values.\n",
    "    '''\n",
    ")"
   ]
  },
  {
   "cell_type": "code",
   "execution_count": 49,
   "id": "d04cbdb5",
   "metadata": {},
   "outputs": [],
   "source": [
    "price_chain=LLMChain(llm=llm,prompt=price_template,output_key=\"price\")"
   ]
  },
  {
   "cell_type": "code",
   "execution_count": 50,
   "id": "4a15cd67",
   "metadata": {},
   "outputs": [],
   "source": [
    "from langchain.chains import SequentialChain\n",
    "from langchain.memory import SimpleMemory"
   ]
  },
  {
   "cell_type": "code",
   "execution_count": 62,
   "id": "0bbef06b",
   "metadata": {},
   "outputs": [],
   "source": [
    "def generate_name_and_menu(res_type,cuisine,place):\n",
    "    overall_chain = SequentialChain(\n",
    "        memory=SimpleMemory(memories={\"menu\": cuisine, \"location\":place, \"von\":res_type}),\n",
    "        chains=[name_chain, menu_chain, price_chain],\n",
    "        input_variables=[\"cuisine\", \"type\",\"place\"],\n",
    "        output_variables=[\"restaurant_name\",\"menu_items\",\"price\"]\n",
    "    )\n",
    "    \n",
    "    output=overall_chain({\"cuisine\":cuisine,\"type\":res_type,\"place\":place})\n",
    "    print(output)"
   ]
  },
  {
   "cell_type": "code",
   "execution_count": null,
   "id": "400ebe95",
   "metadata": {},
   "outputs": [],
   "source": [
    "generate_name_and_menu(\"Vegetarian\",\"South India\",\"Coimbatore\")"
   ]
  }
 ],
 "metadata": {
  "kernelspec": {
   "display_name": "Python 3 (ipykernel)",
   "language": "python",
   "name": "python3"
  },
  "language_info": {
   "codemirror_mode": {
    "name": "ipython",
    "version": 3
   },
   "file_extension": ".py",
   "mimetype": "text/x-python",
   "name": "python",
   "nbconvert_exporter": "python",
   "pygments_lexer": "ipython3",
   "version": "3.9.13"
  }
 },
 "nbformat": 4,
 "nbformat_minor": 5
}
