{
 "cells": [
  {
   "cell_type": "code",
   "execution_count": 1,
   "id": "9e3ba825",
   "metadata": {},
   "outputs": [],
   "source": [
    "from secret_key import openai_api_key\n",
    "import os\n",
    "os.environ[\"OPENAI_API_KEY\"]=openai_api_key"
   ]
  },
  {
   "cell_type": "code",
   "execution_count": 6,
   "id": "760cf496",
   "metadata": {},
   "outputs": [],
   "source": [
    "from langchain.llms import OpenAI"
   ]
  },
  {
   "cell_type": "code",
   "execution_count": 7,
   "id": "a9ce3c93",
   "metadata": {},
   "outputs": [],
   "source": [
    "llm=OpenAI(temperature=0.5)"
   ]
  },
  {
   "cell_type": "markdown",
   "id": "26298bf9",
   "metadata": {},
   "source": [
    "### Prompt Template and Chain"
   ]
  },
  {
   "cell_type": "code",
   "execution_count": 9,
   "id": "213e1b2c",
   "metadata": {},
   "outputs": [],
   "source": [
    "from langchain.prompts import PromptTemplate"
   ]
  },
  {
   "cell_type": "code",
   "execution_count": 11,
   "id": "82e83f4d",
   "metadata": {},
   "outputs": [],
   "source": [
    "from langchain.chains import LLMChain"
   ]
  },
  {
   "cell_type": "code",
   "execution_count": 40,
   "id": "29dbc1c2",
   "metadata": {},
   "outputs": [],
   "source": [
    "name_template=PromptTemplate(\n",
    "    input_variables=['cuisine', 'type', 'place'],\n",
    "    template='''\n",
    "    I am planning to open a restaurant. I'll provide you with the details below, Suggest a fancy and catchy name for it. (Give the name with a relevant emoji)\n",
    "\n",
    "    Type: {type}\n",
    "    Cuisine: {cuisine}\n",
    "    Location: {place}\n",
    "    '''\n",
    ")"
   ]
  },
  {
   "cell_type": "code",
   "execution_count": 41,
   "id": "5ec23fb9",
   "metadata": {},
   "outputs": [],
   "source": [
    "name_chain=LLMChain(llm=llm,prompt=name_template,output_key=\"restaurant_name\")"
   ]
  },
  {
   "cell_type": "code",
   "execution_count": 64,
   "id": "45a63331",
   "metadata": {},
   "outputs": [],
   "source": [
    "menu_template=PromptTemplate(\n",
    "    input_variables=['restaurant_name','von','menu'],\n",
    "    template=\"Give me a comma separated values of menu items (minimum 20, maximum 50) for the {von} restaurant named {restaurant_name} which serves {menu}\"\n",
    ")"
   ]
  },
  {
   "cell_type": "code",
   "execution_count": 46,
   "id": "ca21255d",
   "metadata": {},
   "outputs": [],
   "source": [
    "menu_chain=LLMChain(llm=llm,prompt=menu_template,output_key=\"menu_items\")"
   ]
  },
  {
   "cell_type": "code",
   "execution_count": 48,
   "id": "b1b6d6e4",
   "metadata": {},
   "outputs": [],
   "source": [
    "price_template=PromptTemplate(\n",
    "    input_variables=['menu_items','location'],\n",
    "    template='''\n",
    "    Give me a comma separated price list for the below mentioned menu items.\n",
    "    \n",
    "    {menu_items}\n",
    "    \n",
    "    The restaurant is located in {location}. Assign the price accordingly. Format the output as a comma separated values.\n",
    "    '''\n",
    ")"
   ]
  },
  {
   "cell_type": "code",
   "execution_count": 49,
   "id": "47fd4122",
   "metadata": {},
   "outputs": [],
   "source": [
    "price_chain=LLMChain(llm=llm,prompt=price_template,output_key=\"price\")"
   ]
  },
  {
   "cell_type": "code",
   "execution_count": 50,
   "id": "15eb6d18",
   "metadata": {},
   "outputs": [],
   "source": [
    "from langchain.chains import SequentialChain\n",
    "from langchain.memory import SimpleMemory"
   ]
  },
  {
   "cell_type": "code",
   "execution_count": 62,
   "id": "5931022c",
   "metadata": {},
   "outputs": [],
   "source": [
    "def generate_name_and_menu(res_type,cuisine,place):\n",
    "    overall_chain = SequentialChain(\n",
    "        memory=SimpleMemory(memories={\"menu\": cuisine, \"location\":place, \"von\":res_type}),\n",
    "        chains=[name_chain, menu_chain, price_chain],\n",
    "        input_variables=[\"cuisine\", \"type\",\"place\"],\n",
    "        output_variables=[\"restaurant_name\",\"menu_items\",\"price\"]\n",
    "    )\n",
    "    \n",
    "    output=overall_chain({\"cuisine\":cuisine,\"type\":res_type,\"place\":place})\n",
    "    print(output)"
   ]
  },
  {
   "cell_type": "code",
   "execution_count": 63,
   "id": "4a93a958",
   "metadata": {},
   "outputs": [
    {
     "name": "stdout",
     "output_type": "stream",
     "text": [
      "{'cuisine': 'South India', 'type': 'Vegetarian', 'place': 'Coimbatore', 'menu': 'South India', 'location': 'Coimbatore', 'von': 'Vegetarian', 'restaurant_name': \"\\n🍛  Veggie's Delight, Coimbatore 🍛\", 'menu_items': ' Cuisine\\n\\nIdli, Dosa, Vada, Upma, Pongal, Uttapam, Sambar Rice, Curd Rice, Masala Dosa, Rava Idli, Onion Rava Dosa, Onion Uttapam, Tomato Uttapam, Onion Pakoda, Veg Biryani, Veg Fried Rice, Veg Pulao, Veg Manchurian, Veg Kurma, Veg Korma, Aloo Gobi, Aloo Mutter, Aloo Jeera, Veg Kolhapuri, Veg Chettinadu, Veg Biryani, Veg Jalfrezi, Veg Kofta Curry, Veg Cutlet, Veg Fried Rice, Veg Sweet Corn Soup, Veg Manchow Soup, Veg Clear Soup, Veg Noodles, Veg Fried Noodles, Veg Chowmein, Veg Hakka Noodles.', 'price': '\\nIdli - 25, Dosa - 40, Vada - 20, Upma - 30, Pongal - 35, Uttapam - 35, Sambar Rice - 30, Curd Rice - 35, Masala Dosa - 50, Rava Idli - 40, Onion Rava Dosa - 50, Onion Uttapam - 40, Tomato Uttapam - 40, Onion Pakoda - 25, Veg Biryani - 90, Veg Fried Rice - 70, Veg Pulao - 80, Veg Manchurian - 80, Veg Kurma - 70, Veg Korma - 70, Aloo Gobi - 70, Aloo Mutter - 70, Aloo Jeera - 70, Veg Kolhapuri - 80, Veg Chettinadu - 80, Veg Biryani - 90, Veg Jalfrezi - 80, Veg Kofta Curry - 80, Veg Cutlet - 40, Veg Fried Rice - 70, Veg Sweet Corn Soup - 50, Veg Manchow Soup - 50, Veg Clear Soup - 40, Veg Noodles - 60, Veg Fried Noodles - 60, Veg Chowmein - 60, Veg Hakka Noodles - 60.'}\n"
     ]
    }
   ],
   "source": [
    "generate_name_and_menu(\"Vegetarian\",\"South India\",\"Coimbatore\")"
   ]
  }
 ],
 "metadata": {
  "kernelspec": {
   "display_name": "Python 3 (ipykernel)",
   "language": "python",
   "name": "python3"
  },
  "language_info": {
   "codemirror_mode": {
    "name": "ipython",
    "version": 3
   },
   "file_extension": ".py",
   "mimetype": "text/x-python",
   "name": "python",
   "nbconvert_exporter": "python",
   "pygments_lexer": "ipython3",
   "version": "3.9.13"
  }
 },
 "nbformat": 4,
 "nbformat_minor": 5
}
